{
 "cells": [
  {
   "cell_type": "code",
   "execution_count": null,
   "id": "948ef0bc-a3be-4f45-a5e3-97c5ee58bf4f",
   "metadata": {
    "tags": []
   },
   "outputs": [],
   "source": [
    "import pandas as pd\n",
    "%load_ext autoreload\n",
    "%autoreload 2"
   ]
  },
  {
   "cell_type": "markdown",
   "id": "84c9a358-fda0-4c68-8645-1ef5c1964423",
   "metadata": {},
   "source": [
    "# AISC Database Parser\n",
    "This notebook creates csv files for each section type in the `aisc-shapes-database-v15.0.xlsx`"
   ]
  },
  {
   "cell_type": "markdown",
   "id": "8b73f06f-d6b9-40b4-af10-e0c079504d83",
   "metadata": {},
   "source": [
    "## W-Shapes"
   ]
  },
  {
   "cell_type": "code",
   "execution_count": null,
   "id": "88af4f6a-3eb4-49a6-9f14-8c40e6cfcc2e",
   "metadata": {
    "tags": []
   },
   "outputs": [],
   "source": [
    "# Parse W shapes\n",
    "df = pd.read_excel(\n",
    "    \"aisc-shapes-database-v15.0.xlsx\", \n",
    "    sheet_name=\"Database v15.0\",\n",
    "    usecols=\"C,E:G,L,Q,T,Y,AG,AJ,AM:AT,AX:AY,BW:BX\",\n",
    ")\n",
    "df = df.rename(columns={\"AISC_Manual_Label\": \"Section\"})\n",
    "w_mask = df.Section.str.startswith(\"W\")\n",
    "wt_mask = df.Section.str.startswith(\"WT\")\n",
    "filtered_df = df.loc[w_mask &~ wt_mask]\n",
    "filtered_df.to_csv('aisc_w_shapes.csv', index=False)\n",
    "filtered_df"
   ]
  },
  {
   "cell_type": "markdown",
   "id": "5e2798c7-4e95-47e6-a975-c80cbde591b3",
   "metadata": {
    "tags": []
   },
   "source": [
    "## M-Shapes"
   ]
  },
  {
   "cell_type": "code",
   "execution_count": null,
   "id": "0bad4b5b-5efa-4df2-8316-06551214742e",
   "metadata": {
    "tags": []
   },
   "outputs": [],
   "source": [
    "# Parse M shapes\n",
    "df = pd.read_excel(\n",
    "    \"aisc-shapes-database-v15.0.xlsx\", \n",
    "    sheet_name=\"Database v15.0\",\n",
    "    usecols=\"C,E:G,L,Q,T,Y,AG,AJ,AM:AT,AX:AY,BW:BX\",\n",
    ")\n",
    "df = df.rename(columns={\"AISC_Manual_Label\": \"Section\"})\n",
    "m_mask = df.Section.str.startswith(\"M\")\n",
    "mt_mask = df.Section.str.startswith(\"MT\")\n",
    "mc_mask = df.Section.str.startswith(\"MC\")\n",
    "filtered_df = df.loc[m_mask &~ mt_mask &~ mc_mask]\n",
    "filtered_df.to_csv('aisc_m_shapes.csv', index=False)\n",
    "filtered_df"
   ]
  },
  {
   "cell_type": "markdown",
   "id": "0ffbd4db-1361-4c82-bd96-2fb42a76e618",
   "metadata": {},
   "source": [
    "## S-Shapes"
   ]
  },
  {
   "cell_type": "code",
   "execution_count": null,
   "id": "9bee8aa6-728e-4ea5-980c-5e2d91b3571d",
   "metadata": {
    "tags": []
   },
   "outputs": [],
   "source": [
    "# Parse S shapes\n",
    "df = pd.read_excel(\n",
    "    \"aisc-shapes-database-v15.0.xlsx\", \n",
    "    sheet_name=\"Database v15.0\",\n",
    "    usecols=\"C,E:G,L,Q,T,Y,AG,AJ,AM:AT,AX:AY,BW:BX\",\n",
    ")\n",
    "df = df.rename(columns={\"AISC_Manual_Label\": \"Section\"})\n",
    "s_mask = df.Section.str.startswith(\"S\")\n",
    "st_mask = df.Section.str.startswith(\"ST\")\n",
    "filtered_df = df.loc[s_mask &~ st_mask]\n",
    "filtered_df.to_csv('aisc_s_shapes.csv', index=False)\n",
    "filtered_df"
   ]
  },
  {
   "cell_type": "markdown",
   "id": "cc3cd7a8-7ff2-462c-8c10-66807f94d23d",
   "metadata": {},
   "source": [
    "## HP-Shapes"
   ]
  },
  {
   "cell_type": "code",
   "execution_count": null,
   "id": "82215069-3fc9-4a7e-b102-e18b593f7afd",
   "metadata": {
    "tags": []
   },
   "outputs": [],
   "source": [
    "# Parse HP shapes\n",
    "df = pd.read_excel(\n",
    "    \"aisc-shapes-database-v15.0.xlsx\", \n",
    "    sheet_name=\"Database v15.0\",\n",
    "    usecols=\"C,E:G,L,Q,T,Y,AG,AJ,AM:AT,AX:AY,BW:BX\",\n",
    ")\n",
    "df = df.rename(columns={\"AISC_Manual_Label\": \"Section\"})\n",
    "hp_mask = df.Section.str.startswith(\"HP\")\n",
    "filtered_df = df.loc[hp_mask]\n",
    "filtered_df.to_csv('aisc_hp_shapes.csv', index=False)\n",
    "filtered_df"
   ]
  },
  {
   "cell_type": "markdown",
   "id": "a041e2d8-36c9-4f44-9229-60b3781518d9",
   "metadata": {},
   "source": [
    "## C-Shapes"
   ]
  },
  {
   "cell_type": "code",
   "execution_count": null,
   "id": "999a8b19-bf3c-4e02-a2a0-5bcd67c485eb",
   "metadata": {
    "tags": []
   },
   "outputs": [],
   "source": [
    "# Parse C shapes\n",
    "df = pd.read_excel(\n",
    "    \"aisc-shapes-database-v15.0.xlsx\", \n",
    "    sheet_name=\"Database v15.0\",\n",
    "    usecols=\"C,E:G,L,Q,T,Y,AB,AD:AE,AH,AJ,AM:AT,AX:AY,BG:BH,BW:BX\",\n",
    ")\n",
    "df = df.rename(columns={\"AISC_Manual_Label\": \"Section\",\n",
    "                       \"x\": \"x_bar\"})\n",
    "c_mask = df.Section.str.startswith(\"C\")\n",
    "filtered_df = df.loc[c_mask]\n",
    "filtered_df.to_csv('aisc_c_shapes.csv', index=False)\n",
    "filtered_df"
   ]
  },
  {
   "cell_type": "markdown",
   "id": "a7c64ebb-2b7f-4627-a2b2-cb28bdc9d776",
   "metadata": {},
   "source": [
    "## MC-Shapes"
   ]
  },
  {
   "cell_type": "code",
   "execution_count": null,
   "id": "05366fbc-8933-4df3-9728-070700e09a57",
   "metadata": {
    "tags": []
   },
   "outputs": [],
   "source": [
    "# Parse MC shapes\n",
    "df = pd.read_excel(\n",
    "    \"aisc-shapes-database-v15.0.xlsx\", \n",
    "    sheet_name=\"Database v15.0\",\n",
    "    usecols=\"C,E:G,L,Q,T,Y,AB,AD:AE,AH,AJ,AM:AT,AX:AY,BG:BH,BW:BX\",\n",
    ")\n",
    "df = df.rename(columns={\"AISC_Manual_Label\": \"Section\",\n",
    "                       \"x\": \"x_bar\"})\n",
    "mc_mask = df.Section.str.startswith(\"MC\")\n",
    "filtered_df = df.loc[mc_mask]\n",
    "filtered_df.to_csv('aisc_mc_shapes.csv', index=False)\n",
    "filtered_df"
   ]
  },
  {
   "cell_type": "markdown",
   "id": "87a681fe-66c0-4f6f-b5f9-0ea08901acfd",
   "metadata": {},
   "source": [
    "## L-Shapes"
   ]
  },
  {
   "cell_type": "code",
   "execution_count": null,
   "id": "53c7194f-7d7c-486d-aa6e-3fec167d3501",
   "metadata": {
    "tags": []
   },
   "outputs": [],
   "source": [
    "# Parse L shapes\n",
    "df = pd.read_excel(\n",
    "    \"aisc-shapes-database-v15.0.xlsx\", \n",
    "    sheet_name=\"Database v15.0\",\n",
    "    usecols=\"C,E:G,O,V,Y,AB:AC,AE:AF,AH,AM:AY,BG,BI\",\n",
    ")\n",
    "df = df.rename(columns={\"AISC_Manual_Label\": \"Section\",\n",
    "                       \"x\": \"x_bar\",\n",
    "                       \"y\": \"y_bar\"})\n",
    "l_mask = df.Section.str.startswith(\"L\")\n",
    "filtered_df = df.loc[l_mask]\n",
    "filtered_df.to_csv('aisc_l_shapes.csv', index=False)\n",
    "filtered_df"
   ]
  },
  {
   "cell_type": "markdown",
   "id": "5d4eb43b-8653-45e1-bc51-1ec7f8d46418",
   "metadata": {
    "tags": []
   },
   "source": [
    "## WT-Shapes"
   ]
  },
  {
   "cell_type": "code",
   "execution_count": null,
   "id": "0a3a3954-debf-4ae2-8345-fd032143e00a",
   "metadata": {
    "tags": []
   },
   "outputs": [],
   "source": [
    "# Parse WT shapes\n",
    "df = pd.read_excel(\n",
    "    \"aisc-shapes-database-v15.0.xlsx\", \n",
    "    sheet_name=\"Database v15.0\",\n",
    "    usecols=\"C,E:G,L,Q,T,Y,AC,AF,AG,AL,AM:AT,AX:AY,BG:BH\",\n",
    ")\n",
    "df = df.rename(columns={\"AISC_Manual_Label\": \"Section\",\n",
    "                       \"y\": \"y_bar\",\n",
    "                       \"D/t\": \"d/tw\"})\n",
    "wt_mask = df.Section.str.startswith(\"WT\")\n",
    "filtered_df = df.loc[wt_mask]\n",
    "filtered_df.to_csv('aisc_wt_shapes.csv', index=False)\n",
    "filtered_df"
   ]
  },
  {
   "cell_type": "markdown",
   "id": "54aa7a07-c2de-41e5-8464-4104dc13bbf7",
   "metadata": {},
   "source": [
    "## MT-Shapes"
   ]
  },
  {
   "cell_type": "code",
   "execution_count": null,
   "id": "1c7341e6-e831-47d9-8efc-53de7b7e1b4c",
   "metadata": {
    "tags": []
   },
   "outputs": [],
   "source": [
    "# Parse MT shapes\n",
    "df = pd.read_excel(\n",
    "    \"aisc-shapes-database-v15.0.xlsx\", \n",
    "    sheet_name=\"Database v15.0\",\n",
    "    usecols=\"C,E:G,L,Q,T,Y,AC,AF,AG,AL,AM:AT,AX:AY,BG:BH\",\n",
    ")\n",
    "df = df.rename(columns={\"AISC_Manual_Label\": \"Section\",\n",
    "                       \"y\": \"y_bar\",\n",
    "                       \"D/t\": \"d/tw\"})\n",
    "mt_mask = df.Section.str.startswith(\"MT\")\n",
    "filtered_df = df.loc[mt_mask]\n",
    "filtered_df.to_csv('aisc_mt_shapes.csv', index=False)\n",
    "filtered_df"
   ]
  },
  {
   "cell_type": "markdown",
   "id": "1530a355-4f1f-4363-9bf1-3c4565bcd2c3",
   "metadata": {},
   "source": [
    "## ST-Shapes"
   ]
  },
  {
   "cell_type": "code",
   "execution_count": null,
   "id": "d9fd4be1-444d-4470-ae5c-da1231b9ecd0",
   "metadata": {
    "tags": []
   },
   "outputs": [],
   "source": [
    "# Parse MT shapes\n",
    "df = pd.read_excel(\n",
    "    \"aisc-shapes-database-v15.0.xlsx\", \n",
    "    sheet_name=\"Database v15.0\",\n",
    "    usecols=\"C,E:G,L,Q,T,Y,AC,AF,AG,AL,AM:AT,AX:AY,BG:BH\",\n",
    ")\n",
    "df = df.rename(columns={\"AISC_Manual_Label\": \"Section\",\n",
    "                       \"y\": \"y_bar\",\n",
    "                       \"D/t\": \"d/tw\"})\n",
    "st_mask = df.Section.str.startswith(\"ST\")\n",
    "filtered_df = df.loc[st_mask]\n",
    "filtered_df.to_csv('aisc_st_shapes.csv', index=False)\n",
    "filtered_df"
   ]
  },
  {
   "cell_type": "markdown",
   "id": "8996d286-4cdf-4de8-ab62-c0ce30f6d06c",
   "metadata": {},
   "source": [
    "## Rectangular and Square HSS"
   ]
  },
  {
   "cell_type": "code",
   "execution_count": null,
   "id": "19d14996-d5eb-4671-8be1-f33a7b885bb8",
   "metadata": {
    "tags": []
   },
   "outputs": [],
   "source": [
    "# Parse Rectangular and square shapes\n",
    "df = pd.read_excel(\n",
    "    \"aisc-shapes-database-v15.0.xlsx\", \n",
    "    sheet_name=\"Database v15.0\",\n",
    "    usecols=\"C,E:F,I:J,N:O,X,AI,AK,AM:AT,AX,AZ\",\n",
    ")\n",
    "df = df.rename(columns={\"AISC_Manual_Label\": \"Section\"})\n",
    "hss_mask = df.Section.str.startswith(\"HSS\")\n",
    "hss_round_mask = df.Section.str.count(\"X\") != 2\n",
    "filtered_df = df.loc[hss_mask &~ hss_round_mask]\n",
    "filtered_df.to_csv('aisc_hss_rect_shapes.csv', index=False)\n",
    "filtered_df"
   ]
  },
  {
   "cell_type": "markdown",
   "id": "1ad814b2-78a8-43e9-85e6-f741d337317a",
   "metadata": {},
   "source": [
    "## Round HSS"
   ]
  },
  {
   "cell_type": "code",
   "execution_count": null,
   "id": "ca864009-5bf6-4224-919c-3a07358e6ccb",
   "metadata": {
    "tags": []
   },
   "outputs": [],
   "source": [
    "# Parse Rectangular and square shapes\n",
    "df = pd.read_excel(\n",
    "    \"aisc-shapes-database-v15.0.xlsx\", \n",
    "    sheet_name=\"Database v15.0\",\n",
    "    usecols=\"C,E:F,K,X,AL:AP,AX,AZ\",\n",
    ")\n",
    "df = df.rename(columns={\"AISC_Manual_Label\": \"Section\",\n",
    "                       \"Ix\": \"I\",\n",
    "                       \"Sx\": \"S\",\n",
    "                       \"Zx\": \"Z\",\n",
    "                       \"rx\": \"r\"})\n",
    "hss_mask = df.Section.str.startswith(\"HSS\")\n",
    "hss_round_mask = df.Section.str.count(\"X\") != 2\n",
    "filtered_df = df.loc[hss_mask & hss_round_mask]\n",
    "filtered_df.to_csv('aisc_hss_round_shapes.csv', index=False)\n",
    "filtered_df"
   ]
  },
  {
   "cell_type": "code",
   "execution_count": null,
   "id": "575b97e7-b009-46f0-94da-2b89c39608dc",
   "metadata": {},
   "outputs": [],
   "source": [
    "df = filtered_df.set_index('Section')"
   ]
  },
  {
   "cell_type": "code",
   "execution_count": null,
   "id": "f56b89dd-986c-459d-a5a6-01a94b3c6b61",
   "metadata": {
    "tags": []
   },
   "outputs": [],
   "source": [
    "df = df.loc[[\"W14X145\"]]"
   ]
  },
  {
   "cell_type": "code",
   "execution_count": null,
   "id": "0ab2c5c3-4f97-4909-b1cb-65debc70d02f",
   "metadata": {
    "tags": []
   },
   "outputs": [],
   "source": [
    "df.loc[\"W14X145\"]"
   ]
  },
  {
   "cell_type": "code",
   "execution_count": null,
   "id": "b7e04ef7-f666-4098-82f9-4016055b2642",
   "metadata": {},
   "outputs": [],
   "source": []
  }
 ],
 "metadata": {
  "kernelspec": {
   "display_name": "pfse",
   "language": "python",
   "name": "pfse"
  },
  "language_info": {
   "codemirror_mode": {
    "name": "ipython",
    "version": 3
   },
   "file_extension": ".py",
   "mimetype": "text/x-python",
   "name": "python",
   "nbconvert_exporter": "python",
   "pygments_lexer": "ipython3",
   "version": "3.10.12"
  }
 },
 "nbformat": 4,
 "nbformat_minor": 5
}
