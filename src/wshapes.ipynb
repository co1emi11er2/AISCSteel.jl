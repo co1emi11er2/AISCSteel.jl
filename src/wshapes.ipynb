{
 "cells": [
  {
   "cell_type": "code",
   "execution_count": 1,
   "metadata": {},
   "outputs": [],
   "source": [
    "using AISCSteel\n",
    "import AISCSteel as aisc"
   ]
  },
  {
   "cell_type": "code",
   "execution_count": 2,
   "metadata": {},
   "outputs": [],
   "source": [
    "using Handcalcs, Format, Markdown, StructuralUnits, LaTeXStrings"
   ]
  },
  {
   "cell_type": "code",
   "execution_count": 3,
   "metadata": {},
   "outputs": [],
   "source": [
    "set_default(fmt = x->format(round(x, digits=2)));"
   ]
  },
  {
   "cell_type": "code",
   "execution_count": 4,
   "metadata": {},
   "outputs": [],
   "source": [
    "input_color = :CornflowerBlue;"
   ]
  },
  {
   "cell_type": "markdown",
   "metadata": {},
   "source": [
    "# Example Problem\n",
    "Determine the LRFD flexural design strength for a W10x12 beam with an unbraced length of 2 ft.\n",
    "\n",
    "## Determine if Section is Compact"
   ]
  },
  {
   "cell_type": "code",
   "execution_count": 5,
   "metadata": {},
   "outputs": [],
   "source": [
    "w = aisc.WShape(\"w12x26\");"
   ]
  },
  {
   "cell_type": "code",
   "execution_count": 6,
   "metadata": {},
   "outputs": [],
   "source": [
    "E = 29000ksi\n",
    "F_y = 60ksi;"
   ]
  },
  {
   "cell_type": "code",
   "execution_count": 7,
   "metadata": {},
   "outputs": [],
   "source": [
    "b_f = w.bf\n",
    "t_f = w.tf\n",
    "h = w.h\n",
    "t_w = w.tw;"
   ]
  },
  {
   "cell_type": "code",
   "execution_count": 8,
   "metadata": {},
   "outputs": [
    {
     "data": {
      "text/latex": [
       "$\\color{CornflowerBlue} \\begin{aligned}\n",
       "E &= 29000\\;\\mathrm{ksi}&\n",
       "F_{y} &= 60\\;\\mathrm{ksi}&\n",
       "b_{f} &= 6.49\\;\\mathrm{inch}\n",
       "\\\\[10pt]\n",
       "t_{f} &= 0.38\\;\\mathrm{inch}&\n",
       "h &= 10.86\\;\\mathrm{inch}&\n",
       "t_{w} &= 0.23\\;\\mathrm{inch}\n",
       "\\end{aligned}$"
      ],
      "text/plain": [
       "L\"$\\color{CornflowerBlue} \\begin{aligned}\n",
       "E &= 29000\\;\\mathrm{ksi}&\n",
       "F_{y} &= 60\\;\\mathrm{ksi}&\n",
       "b_{f} &= 6.49\\;\\mathrm{inch}\n",
       "\\\\[10pt]\n",
       "t_{f} &= 0.38\\;\\mathrm{inch}&\n",
       "h &= 10.86\\;\\mathrm{inch}&\n",
       "t_{w} &= 0.23\\;\\mathrm{inch}\n",
       "\\end{aligned}$\""
      ]
     },
     "execution_count": 8,
     "metadata": {},
     "output_type": "execute_result"
    }
   ],
   "source": [
    "@handcalcs begin\n",
    "    E\n",
    "    F_y\n",
    "    b_f\n",
    "    t_f\n",
    "    h\n",
    "    t_w\n",
    "end color = input_color cols = 3"
   ]
  },
  {
   "cell_type": "markdown",
   "metadata": {},
   "source": [
    "## Determine the limiting ratios (AISC Table B4.1b)\n",
    "### Check Flange"
   ]
  },
  {
   "cell_type": "code",
   "execution_count": 9,
   "metadata": {},
   "outputs": [
    {
     "data": {
      "text/latex": [
       "$\\begin{aligned}\n",
       "\\lambda_{f} &= \\frac{b_{f}}{t_{f}} = \\frac{6.49\\;\\mathrm{inch}}{0.38\\;\\mathrm{inch}} = 17.08\n",
       "\\\\[10pt]\n",
       "\\lambda_{pf} &= 0.38 \\cdot \\sqrt{\\frac{E}{F_{y}}} = 0.38 \\cdot \\sqrt{\\frac{29000\\;\\mathrm{ksi}}{60\\;\\mathrm{ksi}}} = 8.35\n",
       "\\\\[10pt]\n",
       "\\lambda_{rf} &= 1 \\cdot \\sqrt{\\frac{E}{F_{y}}} = 1 \\cdot \\sqrt{\\frac{29000\\;\\mathrm{ksi}}{60\\;\\mathrm{ksi}}} = 21.98\n",
       "\\\\[10pt]\n",
       "\\lambda_{fclass} &= \\begin{cases}\n",
       "compact & \\text{if } \\lambda_{f} \\leq \\lambda_{pf}\\\\\n",
       "noncompact & \\text{if } \\lambda_{pf} < \\lambda_{f} \\leq \\lambda_{rf}\\\\\n",
       "slender & \\text{otherwise}\n",
       "\\end{cases} = \\begin{cases}\n",
       "compact & \\text{if } 17.08 \\leq 8.35\\\\\n",
       "noncompact & \\text{if } 8.35 < 17.08 \\leq 21.98\\\\\n",
       "slender & \\text{otherwise}\n",
       "\\end{cases} = noncompact\n",
       "\\end{aligned}$"
      ],
      "text/plain": [
       "\"\\$\\\\begin{aligned}\\n\\\\lambda_{f} &= \\\\frac{b_{f}}{t_{f}} = \\\\frac{6.49\\\\;\\\\mathrm{inch}}{0.38\\\\;\\\\mathrm{inch}} = 17.08\\n\\\\\\\\[10pt]\\n\\\\lambda_{pf} &= 0.38 \\\\cdot \\\\sqrt{\\\\frac{E}{F_{y}}} = 0.38 \\\\cdot \\\\sqrt{\\\\frac{29000\\\\;\\\\mathrm{ksi}}{60\\\\;\\\\mathrm{ksi}}} = 8.35\\n\\\\\\\\[10pt]\\n\\\\lambda_{rf} &= 1 \\\\cd\"\u001b[93m\u001b[1m ⋯ 203 bytes ⋯ \u001b[22m\u001b[39m\"& \\\\text{if } \\\\lambda_{pf} < \\\\lambda_{f} \\\\leq \\\\lambda_{rf}\\\\\\\\\\nslender & \\\\text{otherwise}\\n\\\\end{cases} = \\\\begin{cases}\\ncompact & \\\\text{if } 17.08 \\\\leq 8.35\\\\\\\\\\nnoncompact & \\\\text{if } 8.35 < 17.08 \\\\leq 21.98\\\\\\\\\\nslender & \\\\text{otherwise}\\n\\\\end{cases} = noncompact\\n\\\\end{aligned}\\$\""
      ]
     },
     "execution_count": 9,
     "metadata": {},
     "output_type": "execute_result"
    }
   ],
   "source": [
    "@handcalcs begin\n",
    "    λ_f = b_f/t_f\n",
    "    λ_pf = 0.38*sqrt(E/F_y)\n",
    "    λ_rf = 1.0*sqrt(E/F_y)\n",
    "\n",
    "    λ_fclass = if λ_f <= λ_pf\n",
    "                :compact\n",
    "            elseif λ_pf < λ_f <= λ_rf\n",
    "                :noncompact\n",
    "            else\n",
    "                :slender\n",
    "            end\n",
    "end"
   ]
  },
  {
   "cell_type": "markdown",
   "metadata": {},
   "source": [
    "### Check Web"
   ]
  },
  {
   "cell_type": "code",
   "execution_count": 10,
   "metadata": {},
   "outputs": [
    {
     "data": {
      "text/latex": [
       "$\\begin{aligned}\n",
       "\\lambda_{w} &= \\frac{h}{t_{w}} = \\frac{10.86\\;\\mathrm{inch}}{0.23\\;\\mathrm{inch}} = 47.2\n",
       "\\\\[10pt]\n",
       "\\lambda_{pw} &= 3.76 \\cdot \\sqrt{\\frac{E}{F_{y}}} = 3.76 \\cdot \\sqrt{\\frac{29000\\;\\mathrm{ksi}}{60\\;\\mathrm{ksi}}} = 82.66\n",
       "\\\\[10pt]\n",
       "\\lambda_{rw} &= 5.7 \\cdot \\sqrt{\\frac{E}{F_{y}}} = 5.7 \\cdot \\sqrt{\\frac{29000\\;\\mathrm{ksi}}{60\\;\\mathrm{ksi}}} = 125.31\n",
       "\\\\[10pt]\n",
       "class &= \\begin{cases}\n",
       "compact & \\text{if } \\lambda_{w} \\leq \\lambda_{pw}\\\\\n",
       "noncompact & \\text{if } \\lambda_{pw} < \\lambda_{w} \\leq \\lambda_{rw}\\\\\n",
       "slender & \\text{otherwise}\n",
       "\\end{cases} = \\begin{cases}\n",
       "compact & \\text{if } 47.2 \\leq 82.66\\\\\n",
       "noncompact & \\text{if } 82.66 < 47.2 \\leq 125.31\\\\\n",
       "slender & \\text{otherwise}\n",
       "\\end{cases} = compact\n",
       "\\end{aligned}$"
      ],
      "text/plain": [
       "\"\\$\\\\begin{aligned}\\n\\\\lambda_{w} &= \\\\frac{h}{t_{w}} = \\\\frac{10.86\\\\;\\\\mathrm{inch}}{0.23\\\\;\\\\mathrm{inch}} = 47.2\\n\\\\\\\\[10pt]\\n\\\\lambda_{pw} &= 3.76 \\\\cdot \\\\sqrt{\\\\frac{E}{F_{y}}} = 3.76 \\\\cdot \\\\sqrt{\\\\frac{29000\\\\;\\\\mathrm{ksi}}{60\\\\;\\\\mathrm{ksi}}} = 82.66\\n\\\\\\\\[10pt]\\n\\\\lambda_{rw} &= 5.7 \\\\cdo\"\u001b[93m\u001b[1m ⋯ 192 bytes ⋯ \u001b[22m\u001b[39m\"t & \\\\text{if } \\\\lambda_{pw} < \\\\lambda_{w} \\\\leq \\\\lambda_{rw}\\\\\\\\\\nslender & \\\\text{otherwise}\\n\\\\end{cases} = \\\\begin{cases}\\ncompact & \\\\text{if } 47.2 \\\\leq 82.66\\\\\\\\\\nnoncompact & \\\\text{if } 82.66 < 47.2 \\\\leq 125.31\\\\\\\\\\nslender & \\\\text{otherwise}\\n\\\\end{cases} = compact\\n\\\\end{aligned}\\$\""
      ]
     },
     "execution_count": 10,
     "metadata": {},
     "output_type": "execute_result"
    }
   ],
   "source": [
    "@handcalcs begin\n",
    "    λ_w = h/t_w\n",
    "    λ_pw = 3.76*sqrt(E/F_y)\n",
    "    λ_rw = 5.7*sqrt(E/F_y)\n",
    "\n",
    "    class = if λ_w <= λ_pw\n",
    "                :compact\n",
    "            elseif λ_pw < λ_w <= λ_rw\n",
    "                :noncompact\n",
    "            else\n",
    "                :slender\n",
    "            end\n",
    "end"
   ]
  },
  {
   "cell_type": "code",
   "execution_count": 33,
   "metadata": {},
   "outputs": [
    {
     "data": {
      "text/latex": [
       "Flange is \\emph{noncompact} ∴  Section is \\textbf{F3}\n",
       "\n"
      ],
      "text/markdown": [
       "Flange is *noncompact* ∴  Section is **F3**\n"
      ],
      "text/plain": [
       "  Flange is \u001b[4mnoncompact\u001b[24m ∴ Section is \u001b[1mF3\u001b[22m"
      ]
     },
     "execution_count": 33,
     "metadata": {},
     "output_type": "execute_result"
    }
   ],
   "source": [
    "if λ_fclass == :compact\n",
    "    section = \"F2\"\n",
    "    md\"Flange is **$(string(λ_fclass))** ∴  Section is $section}}\"\n",
    "else\n",
    "    section = \"F3\"\n",
    "    md\"Flange is *$(string(λ_fclass))* ∴  Section is **$section**\"\n",
    "end"
   ]
  },
  {
   "cell_type": "code",
   "execution_count": 12,
   "metadata": {},
   "outputs": [
    {
     "data": {
      "text/latex": [
       "\\subsection{Calculate Flexural Strength with AISC Spec F3}\n"
      ],
      "text/markdown": [
       "## Calculate Flexural Strength with AISC Spec F3\n"
      ],
      "text/plain": [
       "\u001b[1m  Calculate Flexural Strength with AISC Spec F3\u001b[22m\n",
       "\u001b[1m  =============================================\u001b[22m"
      ]
     },
     "execution_count": 12,
     "metadata": {},
     "output_type": "execute_result"
    }
   ],
   "source": [
    "md\"\"\"\n",
    "## Calculate Flexural Strength with AISC Spec $section\n",
    "\"\"\"\n"
   ]
  },
  {
   "cell_type": "code",
   "execution_count": 20,
   "metadata": {},
   "outputs": [
    {
     "data": {
      "text/latex": [
       "\\section{Heloo}\n"
      ],
      "text/markdown": [
       "# Heloo\n"
      ],
      "text/plain": [
       "\u001b[1m  Heloo\u001b[22m\n",
       "\u001b[1m  ≡≡≡≡≡\u001b[22m"
      ]
     },
     "metadata": {},
     "output_type": "display_data"
    }
   ],
   "source": [
    "md\"# Heloo\""
   ]
  },
  {
   "cell_type": "code",
   "execution_count": 17,
   "metadata": {},
   "outputs": [
    {
     "data": {
      "text/latex": [
       "$\\begin{aligned}\n",
       "M_{p} &= F_{y} \\cdot Z_{x}\n",
       "\\\\[10pt]\n",
       "&= 60\\;\\mathrm{ksi} \\cdot 37.2\\;\\mathrm{inch}^{3}\n",
       "\\\\[10pt]\n",
       "&= 2232\\;\\mathrm{inch}^{3}\\,\\mathrm{ksi}\n",
       "\\\\[10pt]\n",
       "L_{p} &= 1.76 \\cdot r_{y} \\cdot \\sqrt{\\frac{E}{F_{y}}}\n",
       "\\\\[10pt]\n",
       "&= 1.76 \\cdot 1.51\\;\\mathrm{inch} \\cdot \\sqrt{\\frac{29000\\;\\mathrm{ksi}}{60\\;\\mathrm{ksi}}}\n",
       "\\\\[10pt]\n",
       "&= 58.43\\;\\mathrm{inch}\n",
       "\\\\[10pt]\n",
       "L_{r} &= 1.95 \\cdot r_{ts} \\cdot \\frac{E}{0.7 \\cdot F_{y}} \\cdot \\sqrt{\\frac{J \\cdot c}{S_{x} \\cdot h_{0}} + \\sqrt{\\left( \\frac{J \\cdot c}{S_{x} \\cdot h_{0}} \\right)^{2} + 6.76 \\cdot \\left( \\frac{0.7 \\cdot F_{y}}{E} \\right)^{2}}}\n",
       "\\\\[10pt]\n",
       "&= 1.95 \\cdot 1.75\\;\\mathrm{inch} \\cdot \\frac{29000\\;\\mathrm{ksi}}{0.7 \\cdot 60\\;\\mathrm{ksi}} \\cdot \\sqrt{\\frac{0.3\\;\\mathrm{inch}^{4} \\cdot 1}{33.4\\;\\mathrm{inch}^{3} \\cdot 11.8\\;\\mathrm{inch}} + \\sqrt{\\left( \\frac{0.3\\;\\mathrm{inch}^{4} \\cdot 1}{33.4\\;\\mathrm{inch}^{3} \\cdot 11.8\\;\\mathrm{inch}} \\right)^{2} + 6.76 \\cdot \\left( \\frac{0.7 \\cdot 60\\;\\mathrm{ksi}}{29000\\;\\mathrm{ksi}} \\right)^{2}}}\n",
       "\\\\[10pt]\n",
       "&= 159.86\\;\\mathrm{inch}\n",
       "\\\\[10pt]\n",
       "F_{cr} &= \\frac{C_{b} \\cdot \\pi^{2} \\cdot E}{\\left( \\frac{L_{b}}{r_{ts}} \\right)^{2}} \\cdot \\sqrt{1 + 0.08 \\cdot \\frac{J \\cdot c}{S_{x} \\cdot h_{0}} \\cdot \\left( \\frac{L_{b}}{r_{ts}} \\right)^{2}}\n",
       "\\\\[10pt]\n",
       "&= \\frac{1 \\cdot 3.14^{2} \\cdot 29000\\;\\mathrm{ksi}}{\\left( \\frac{10\\;\\mathrm{ft}}{1.75\\;\\mathrm{inch}} \\right)^{2}} \\cdot \\sqrt{1 + 0.08 \\cdot \\frac{0.3\\;\\mathrm{inch}^{4} \\cdot 1}{33.4\\;\\mathrm{inch}^{3} \\cdot 11.8\\;\\mathrm{inch}} \\cdot \\left( \\frac{10\\;\\mathrm{ft}}{1.75\\;\\mathrm{inch}} \\right)^{2}}\n",
       "\\\\[10pt]\n",
       "&= 9913.76\\;\\mathrm{inch}^{2}\\,\\mathrm{ksi}\\,\\mathrm{ft}^{-2}\n",
       "\\\\[10pt]\n",
       "M_{n2} &= \\begin{cases}\n",
       "M_{p} & \\text{if } L_{b} \\leq L_{p}\\\\\n",
       "C_{b} \\cdot \\left( M_{p} - \\left( M_{p} - 0.7 \\cdot F_{y} \\cdot S_{x} \\right) \\cdot \\frac{L_{b} - L_{p}}{L_{r} - L_{p}} \\right) & \\text{if } L_{p} < L_{b} \\leq L_{r}\\\\\n",
       "F_{cr} \\cdot S_{x} & \\text{otherwise}\n",
       "\\end{cases}\n",
       "\\\\[10pt]\n",
       "&= \\begin{cases}\n",
       "2232\\;\\mathrm{inch}^{3}\\,\\mathrm{ksi} & \\text{if } 10\\;\\mathrm{ft} \\leq 58.43\\;\\mathrm{inch}\\\\\n",
       "1 \\cdot \\left( 2232\\;\\mathrm{inch}^{3}\\,\\mathrm{ksi} - \\left( 2232\\;\\mathrm{inch}^{3}\\,\\mathrm{ksi} - 0.7 \\cdot 60\\;\\mathrm{ksi} \\cdot 33.4\\;\\mathrm{inch}^{3} \\right) \\cdot \\frac{10\\;\\mathrm{ft} - 58.43\\;\\mathrm{inch}}{159.86\\;\\mathrm{inch} - 58.43\\;\\mathrm{inch}} \\right) & \\text{if } 58.43\\;\\mathrm{inch} < 10\\;\\mathrm{ft} \\leq 159.86\\;\\mathrm{inch}\\\\\n",
       "9913.76\\;\\mathrm{inch}^{2}\\,\\mathrm{ksi}\\,\\mathrm{ft}^{-2} \\cdot 33.4\\;\\mathrm{inch}^{3} & \\text{otherwise}\n",
       "\\end{cases}\n",
       "\\\\[10pt]\n",
       "&= 144.05\\;\\mathrm{ft}\\,\\mathrm{kip}\n",
       "\\\\[10pt]\n",
       "M_{n} &= \\mathrm{min}\\left( M_{n2}, M_{p} \\right)\n",
       "\\\\[10pt]\n",
       "&= \\mathrm{min}\\left( 144.05\\;\\mathrm{ft}\\,\\mathrm{kip}, 2232\\;\\mathrm{inch}^{3}\\,\\mathrm{ksi} \\right)\n",
       "\\\\[10pt]\n",
       "&= 144.05\\;\\mathrm{ft}\\,\\mathrm{kip}\n",
       "\\end{aligned}$"
      ],
      "text/plain": [
       "\"\\$\\\\begin{aligned}\\nM_{p} &= F_{y} \\\\cdot Z_{x}\\n\\\\\\\\[10pt]\\n&= 60\\\\;\\\\mathrm{ksi} \\\\cdot 37.2\\\\;\\\\mathrm{inch}^{3}\\n\\\\\\\\[10pt]\\n&= 2232\\\\;\\\\mathrm{inch}^{3}\\\\,\\\\mathrm{ksi}\\n\\\\\\\\[10pt]\\nL_{p} &= 1.76 \\\\cdot r_{y} \\\\cdot \\\\sqrt{\\\\frac{E}{F_{y}}}\\n\\\\\\\\[10pt]\\n&= 1.76 \\\\cdot 1.51\\\\;\\\\mathrm{inch} \\\\cdot \\\\sqr\"\u001b[93m\u001b[1m ⋯ 2243 bytes ⋯ \u001b[22m\u001b[39m\"]\\n&= 144.05\\\\;\\\\mathrm{ft}\\\\,\\\\mathrm{kip}\\n\\\\\\\\[10pt]\\nM_{n} &= \\\\mathrm{min}\\\\left( M_{n2}, M_{p} \\\\right)\\n\\\\\\\\[10pt]\\n&= \\\\mathrm{min}\\\\left( 144.05\\\\;\\\\mathrm{ft}\\\\,\\\\mathrm{kip}, 2232\\\\;\\\\mathrm{inch}^{3}\\\\,\\\\mathrm{ksi} \\\\right)\\n\\\\\\\\[10pt]\\n&= 144.05\\\\;\\\\mathrm{ft}\\\\,\\\\mathrm{kip}\\n\\\\end{aligned}\\$\""
      ]
     },
     "metadata": {},
     "output_type": "display_data"
    }
   ],
   "source": [
    "@handcalcs M_n = flexure_capacity_f2(w, E, F_y, 10ft) len=:long"
   ]
  },
  {
   "cell_type": "code",
   "execution_count": null,
   "metadata": {},
   "outputs": [],
   "source": [
    "@handcalcs M_n = flexure_capacity_f2(w, E, F_y, 80) "
   ]
  }
 ],
 "metadata": {
  "kernelspec": {
   "display_name": "Julia 1.10.6",
   "language": "julia",
   "name": "julia-1.10"
  },
  "language_info": {
   "file_extension": ".jl",
   "mimetype": "application/julia",
   "name": "julia",
   "version": "1.10.6"
  }
 },
 "nbformat": 4,
 "nbformat_minor": 4
}
