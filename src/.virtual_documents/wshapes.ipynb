using AISCSteel
import AISCSteel as aisc


using Handcalcs, Format, Markdown, StructuralUnits, LaTeXStrings


set_default(fmt = x->format(round(x, digits=2)));


input_color = :CornflowerBlue;





w = aisc.WShape("w12x26");


E = 29000ksi
F_y = 60ksi;


b_f = w.bf
t_f = w.tf
h = w.h
t_w = w.tw;


@handcalcs begin
    E
    F_y
    b_f
    t_f
    h
    t_w
end color = input_color cols = 3





@handcalcs begin
    λ_f = b_f/t_f
    λ_pf = 0.38*sqrt(E/F_y)
    λ_rf = 1.0*sqrt(E/F_y)

    λ_fclass = if λ_f <= λ_pf
                :compact
            elseif λ_pf < λ_f <= λ_rf
                :noncompact
            else
                :slender
            end
end





@handcalcs begin
    λ_w = h/t_w
    λ_pw = 3.76*sqrt(E/F_y)
    λ_rw = 5.7*sqrt(E/F_y)

    class = if λ_w <= λ_pw
                :compact
            elseif λ_pw < λ_w <= λ_rw
                :noncompact
            else
                :slender
            end
end


if λ_fclass == :compact
    section = "F2"
    md"Flange is **$(string(λ_fclass))** ∴  Section is $section}}"
else
    section = "F3"
    md"Flange is *$(string(λ_fclass))* ∴  Section is **$section**"
end


md"""
## Calculate Flexural Strength with AISC Spec $section
"""



@handcalcs M_n = flexure_capacity_f2(w, E, F_y, 10ft) len=:long


@handcalcs M_n = flexure_capacity_f2(w, E, F_y, 80) 
