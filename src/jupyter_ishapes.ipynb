{
 "cells": [
  {
   "cell_type": "code",
   "execution_count": 2,
   "metadata": {},
   "outputs": [],
   "source": [
    "using AISCSteel\n",
    "import AISCSteel as aisc"
   ]
  },
  {
   "cell_type": "code",
   "execution_count": 6,
   "metadata": {},
   "outputs": [],
   "source": [
    "using Handcalcs, Format, Markdown, StructuralUnits"
   ]
  },
  {
   "cell_type": "code",
   "execution_count": 3,
   "metadata": {},
   "outputs": [],
   "source": [
    "set_default(fmt = x->format(round(x, digits=2)));"
   ]
  },
  {
   "cell_type": "code",
   "execution_count": 14,
   "metadata": {},
   "outputs": [
    {
     "data": {
      "text/plain": [
       "DoublySymmetricBuiltUpIShape{Float64}(88.0, 0.625, 22.0, 1.0, 29000.0, 60.0)"
      ]
     },
     "metadata": {},
     "output_type": "display_data"
    }
   ],
   "source": [
    "i = DoublySymmetricBuiltUpIShape(88., 0.625, 22., 1., 29000., 60.)"
   ]
  },
  {
   "cell_type": "code",
   "execution_count": 15,
   "metadata": {},
   "outputs": [
    {
     "data": {
      "text/latex": [
       "$\\begin{aligned}\n",
       "\\lambda_{p} &= 0.38 \\cdot \\sqrt{\\frac{E}{F_{y}}} = 0.38 \\cdot \\sqrt{\\frac{29000}{60}} = 8.35\n",
       "\\\\[10pt]\n",
       "k_{c} &= \\mathrm{min}\\left( \\mathrm{max}\\left( \\frac{4}{\\sqrt{\\frac{dw}{tw}}}, 0.35 \\right), 0.76 \\right) = \\mathrm{min}\\left( \\mathrm{max}\\left( \\frac{4}{\\sqrt{\\frac{88}{0.62}}}, 0.35 \\right), 0.76 \\right) = 0.35\n",
       "\\\\[10pt]\n",
       "F_{L} &= 0.7 \\cdot F_{y} = 0.7 \\cdot 60 = 42\n",
       "\\\\[10pt]\n",
       "\\lambda_{r} &= 0.95 \\cdot \\sqrt{\\frac{k_{c} \\cdot E}{F_{L}}} = 0.95 \\cdot \\sqrt{\\frac{0.35 \\cdot 29000}{42}} = 14.77\n",
       "\\\\[10pt]\n",
       "\\lambda &= \\frac{bf}{2 \\cdot tf} = \\frac{22}{2 \\cdot 1} = 11\n",
       "\\\\[10pt]\n",
       "class &= \\begin{cases}\n",
       "compact & \\text{if } \\lambda \\leq \\lambda_{p}\\\\\n",
       "noncompact & \\text{if } \\lambda_{p} < \\lambda < \\lambda_{r}\\\\\n",
       "slender & \\text{otherwise}\n",
       "\\end{cases} = \\begin{cases}\n",
       "compact & \\text{if } 11 \\leq 8.35\\\\\n",
       "noncompact & \\text{if } 8.35 < 11 < 14.77\\\\\n",
       "slender & \\text{otherwise}\n",
       "\\end{cases} = noncompact\n",
       "\\end{aligned}$"
      ],
      "text/plain": [
       "\"\\$\\\\begin{aligned}\\n\\\\lambda_{p} &= 0.38 \\\\cdot \\\\sqrt{\\\\frac{E}{F_{y}}} = 0.38 \\\\cdot \\\\sqrt{\\\\frac{29000}{60}} = 8.35\\n\\\\\\\\[10pt]\\nk_{c} &= \\\\mathrm{min}\\\\left( \\\\mathrm{max}\\\\left( \\\\frac{4}{\\\\sqrt{\\\\frac{dw}{tw}}}, 0.35 \\\\right), 0.76 \\\\right) = \\\\mathrm{min}\\\\left( \\\\mathrm{max}\\\\left( \\\\frac{\"\u001b[93m\u001b[1m ⋯ 385 bytes ⋯ \u001b[22m\u001b[39m\"_{p}\\\\\\\\\\nnoncompact & \\\\text{if } \\\\lambda_{p} < \\\\lambda < \\\\lambda_{r}\\\\\\\\\\nslender & \\\\text{otherwise}\\n\\\\end{cases} = \\\\begin{cases}\\ncompact & \\\\text{if } 11 \\\\leq 8.35\\\\\\\\\\nnoncompact & \\\\text{if } 8.35 < 11 < 14.77\\\\\\\\\\nslender & \\\\text{otherwise}\\n\\\\end{cases} = noncompact\\n\\\\end{aligned}\\$\""
      ]
     },
     "metadata": {},
     "output_type": "display_data"
    }
   ],
   "source": [
    "@handcalcs class = flange_slenderness_flexure(i)"
   ]
  },
  {
   "cell_type": "code",
   "execution_count": 16,
   "metadata": {},
   "outputs": [
    {
     "data": {
      "text/latex": [
       "$\\begin{aligned}\n",
       "\\lambda_{p} &= 3.76 \\cdot \\sqrt{\\frac{E}{F_{y}}} = 3.76 \\cdot \\sqrt{\\frac{29000}{60}} = 82.66\n",
       "\\\\[10pt]\n",
       "\\lambda_{r} &= 5.7 \\cdot \\sqrt{\\frac{E}{F_{y}}} = 5.7 \\cdot \\sqrt{\\frac{29000}{60}} = 125.31\n",
       "\\\\[10pt]\n",
       "\\lambda &= \\frac{dw}{tw} = \\frac{88}{0.62} = 140.8\n",
       "\\\\[10pt]\n",
       "class &= \\begin{cases}\n",
       "compact & \\text{if } \\lambda \\leq \\lambda_{p}\\\\\n",
       "noncompact & \\text{if } \\lambda_{p} < \\lambda < \\lambda_{r}\\\\\n",
       "slender & \\text{otherwise}\n",
       "\\end{cases} = \\begin{cases}\n",
       "compact & \\text{if } 140.8 \\leq 82.66\\\\\n",
       "noncompact & \\text{if } 82.66 < 140.8 < 125.31\\\\\n",
       "slender & \\text{otherwise}\n",
       "\\end{cases} = slender\n",
       "\\end{aligned}$"
      ],
      "text/plain": [
       "\"\\$\\\\begin{aligned}\\n\\\\lambda_{p} &= 3.76 \\\\cdot \\\\sqrt{\\\\frac{E}{F_{y}}} = 3.76 \\\\cdot \\\\sqrt{\\\\frac{29000}{60}} = 82.66\\n\\\\\\\\[10pt]\\n\\\\lambda_{r} &= 5.7 \\\\cdot \\\\sqrt{\\\\frac{E}{F_{y}}} = 5.7 \\\\cdot \\\\sqrt{\\\\frac{29000}{60}} = 125.31\\n\\\\\\\\[10pt]\\n\\\\lambda &= \\\\frac{dw}{tw} = \\\\frac{88}{0.62} = 140.\"\u001b[93m\u001b[1m ⋯ 80 bytes ⋯ \u001b[22m\u001b[39m\"\\\\\\nnoncompact & \\\\text{if } \\\\lambda_{p} < \\\\lambda < \\\\lambda_{r}\\\\\\\\\\nslender & \\\\text{otherwise}\\n\\\\end{cases} = \\\\begin{cases}\\ncompact & \\\\text{if } 140.8 \\\\leq 82.66\\\\\\\\\\nnoncompact & \\\\text{if } 82.66 < 140.8 < 125.31\\\\\\\\\\nslender & \\\\text{otherwise}\\n\\\\end{cases} = slender\\n\\\\end{aligned}\\$\""
      ]
     },
     "metadata": {},
     "output_type": "display_data"
    }
   ],
   "source": [
    "@handcalcs class = web_slenderness_flexure(i)"
   ]
  },
  {
   "cell_type": "code",
   "execution_count": 4,
   "metadata": {},
   "outputs": [
    {
     "data": {
      "text/plain": [
       "AISCSteel.WShape(InlineStrings.String7(\"W12X26\"), 26.0 plf, 7.65 inch^2, 12.2 inch, 6.49 inch, 0.23 inch, 0.38 inch, 0.68 inch, 0.75 inch, 10.856 inch, 204.0 inch^4, 37.2 inch^3, 33.4 inch^3, 5.17 inch, 17.3 inch^4, 8.17 inch^3, 5.34 inch^3, 1.51 inch, 0.3 inch^4, 607.0 inch^6, 19.2 inch^2, 11.8 inch^4, 7.03 inch^3, 18.3 inch^3, 1.75 inch, 11.8 inch, 42.9 inch, 49.4 inch, 30.9 inch, 37.4 inch, 10.125 inch, 3.5 inch, InlineStrings.String3(\"–\"))"
      ]
     },
     "metadata": {},
     "output_type": "display_data"
    }
   ],
   "source": [
    "w = aisc.WShape(\"w12x26\")"
   ]
  },
  {
   "cell_type": "code",
   "execution_count": 7,
   "metadata": {},
   "outputs": [
    {
     "data": {
      "text/plain": [
       "60 ksi"
      ]
     },
     "metadata": {},
     "output_type": "display_data"
    }
   ],
   "source": [
    "E = 29000ksi\n",
    "F_y = 60ksi"
   ]
  },
  {
   "cell_type": "code",
   "execution_count": 8,
   "metadata": {},
   "outputs": [
    {
     "data": {
      "text/latex": [
       "$\\begin{aligned}\n",
       "b &= \\frac{bf}{2} = \\frac{6.49\\;\\mathrm{inch}}{2} = 3.24\\;\\mathrm{inch}\n",
       "\\\\[10pt]\n",
       "t &= tf = 0.38\\;\\mathrm{inch}\n",
       "\\\\[10pt]\n",
       "\\lambda &= \\frac{b}{t} = \\frac{3.24\\;\\mathrm{inch}}{0.38\\;\\mathrm{inch}} = 8.54\n",
       "\\\\[10pt]\n",
       "\\lambda_{p} &= 0.38 \\cdot \\sqrt{\\frac{E}{F_{y}}} = 0.38 \\cdot \\sqrt{\\frac{29000\\;\\mathrm{ksi}}{60\\;\\mathrm{ksi}}} = 8.35\n",
       "\\\\[10pt]\n",
       "\\lambda_{r} &= 1 \\cdot \\sqrt{\\frac{E}{F_{y}}} = 1 \\cdot \\sqrt{\\frac{29000\\;\\mathrm{ksi}}{60\\;\\mathrm{ksi}}} = 21.98\n",
       "\\\\[10pt]\n",
       "class &= \\begin{cases}\n",
       "compact & \\text{if } \\lambda \\leq \\lambda_{p}\\\\\n",
       "noncompact & \\text{if } \\lambda_{p} < \\lambda \\leq \\lambda_{r}\\\\\n",
       "slender & \\text{otherwise}\n",
       "\\end{cases} = \\begin{cases}\n",
       "compact & \\text{if } 8.54 \\leq 8.35\\\\\n",
       "noncompact & \\text{if } 8.35 < 8.54 \\leq 21.98\\\\\n",
       "slender & \\text{otherwise}\n",
       "\\end{cases} = noncompact\n",
       "\\end{aligned}$"
      ],
      "text/plain": [
       "\"\\$\\\\begin{aligned}\\nb &= \\\\frac{bf}{2} = \\\\frac{6.49\\\\;\\\\mathrm{inch}}{2} = 3.24\\\\;\\\\mathrm{inch}\\n\\\\\\\\[10pt]\\nt &= tf = 0.38\\\\;\\\\mathrm{inch}\\n\\\\\\\\[10pt]\\n\\\\lambda &= \\\\frac{b}{t} = \\\\frac{3.24\\\\;\\\\mathrm{inch}}{0.38\\\\;\\\\mathrm{inch}} = 8.54\\n\\\\\\\\[10pt]\\n\\\\lambda_{p} &= 0.38 \\\\cdot \\\\sqrt{\\\\frac{E}{F_{y\"\u001b[93m\u001b[1m ⋯ 284 bytes ⋯ \u001b[22m\u001b[39m\"compact & \\\\text{if } \\\\lambda_{p} < \\\\lambda \\\\leq \\\\lambda_{r}\\\\\\\\\\nslender & \\\\text{otherwise}\\n\\\\end{cases} = \\\\begin{cases}\\ncompact & \\\\text{if } 8.54 \\\\leq 8.35\\\\\\\\\\nnoncompact & \\\\text{if } 8.35 < 8.54 \\\\leq 21.98\\\\\\\\\\nslender & \\\\text{otherwise}\\n\\\\end{cases} = noncompact\\n\\\\end{aligned}\\$\""
      ]
     },
     "metadata": {},
     "output_type": "display_data"
    }
   ],
   "source": [
    "@handcalcs flange_class = aisc.classify_flange_for_lb(w, E, F_y)"
   ]
  },
  {
   "cell_type": "code",
   "execution_count": 9,
   "metadata": {},
   "outputs": [
    {
     "data": {
      "text/latex": [
       "$\\begin{aligned}\n",
       "h &= h = 10.86\\;\\mathrm{inch}\n",
       "\\\\[10pt]\n",
       "tw &= tw = 0.23\\;\\mathrm{inch}\n",
       "\\\\[10pt]\n",
       "\\lambda &= \\frac{h}{t_{w}} = \\frac{10.86\\;\\mathrm{inch}}{0.23\\;\\mathrm{inch}} = 47.2\n",
       "\\\\[10pt]\n",
       "\\lambda_{p} &= 3.76 \\cdot \\sqrt{\\frac{E}{F_{y}}} = 3.76 \\cdot \\sqrt{\\frac{29000\\;\\mathrm{ksi}}{60\\;\\mathrm{ksi}}} = 82.66\n",
       "\\\\[10pt]\n",
       "\\lambda_{r} &= 5.7 \\cdot \\sqrt{\\frac{E}{F_{y}}} = 5.7 \\cdot \\sqrt{\\frac{29000\\;\\mathrm{ksi}}{60\\;\\mathrm{ksi}}} = 125.31\n",
       "\\\\[10pt]\n",
       "class &= \\begin{cases}\n",
       "compact & \\text{if } \\lambda \\leq \\lambda_{p}\\\\\n",
       "noncompact & \\text{if } \\lambda_{p} < \\lambda \\leq \\lambda_{r}\\\\\n",
       "slender & \\text{otherwise}\n",
       "\\end{cases} = \\begin{cases}\n",
       "compact & \\text{if } 47.2 \\leq 82.66\\\\\n",
       "noncompact & \\text{if } 82.66 < 47.2 \\leq 125.31\\\\\n",
       "slender & \\text{otherwise}\n",
       "\\end{cases} = compact\n",
       "\\end{aligned}$"
      ],
      "text/plain": [
       "\"\\$\\\\begin{aligned}\\nh &= h = 10.86\\\\;\\\\mathrm{inch}\\n\\\\\\\\[10pt]\\ntw &= tw = 0.23\\\\;\\\\mathrm{inch}\\n\\\\\\\\[10pt]\\n\\\\lambda &= \\\\frac{h}{t_{w}} = \\\\frac{10.86\\\\;\\\\mathrm{inch}}{0.23\\\\;\\\\mathrm{inch}} = 47.2\\n\\\\\\\\[10pt]\\n\\\\lambda_{p} &= 3.76 \\\\cdot \\\\sqrt{\\\\frac{E}{F_{y}}} = 3.76 \\\\cdot \\\\sqrt{\\\\frac{29000\\\\;\"\u001b[93m\u001b[1m ⋯ 254 bytes ⋯ \u001b[22m\u001b[39m\"compact & \\\\text{if } \\\\lambda_{p} < \\\\lambda \\\\leq \\\\lambda_{r}\\\\\\\\\\nslender & \\\\text{otherwise}\\n\\\\end{cases} = \\\\begin{cases}\\ncompact & \\\\text{if } 47.2 \\\\leq 82.66\\\\\\\\\\nnoncompact & \\\\text{if } 82.66 < 47.2 \\\\leq 125.31\\\\\\\\\\nslender & \\\\text{otherwise}\\n\\\\end{cases} = compact\\n\\\\end{aligned}\\$\""
      ]
     },
     "metadata": {},
     "output_type": "display_data"
    }
   ],
   "source": [
    "@handcalcs web_class = aisc.classify_web_for_lb(w, E, F_y)"
   ]
  },
  {
   "cell_type": "code",
   "execution_count": 17,
   "metadata": {},
   "outputs": [
    {
     "data": {
      "text/latex": [
       "$\\begin{aligned}\n",
       "M_{p} &= F_{y} \\cdot Z_{x}\n",
       "\\\\[10pt]\n",
       "&= 60\\;\\mathrm{ksi} \\cdot 37.2\\;\\mathrm{inch}^{3}\n",
       "\\\\[10pt]\n",
       "&= 2232\\;\\mathrm{inch}^{3}\\,\\mathrm{ksi}\n",
       "\\\\[10pt]\n",
       "L_{p} &= 1.76 \\cdot r_{y} \\cdot \\sqrt{\\frac{E}{F_{y}}}\n",
       "\\\\[10pt]\n",
       "&= 1.76 \\cdot 1.51\\;\\mathrm{inch} \\cdot \\sqrt{\\frac{29000\\;\\mathrm{ksi}}{60\\;\\mathrm{ksi}}}\n",
       "\\\\[10pt]\n",
       "&= 58.43\\;\\mathrm{inch}\n",
       "\\\\[10pt]\n",
       "L_{r} &= 1.95 \\cdot r_{ts} \\cdot \\frac{E}{0.7 \\cdot F_{y}} \\cdot \\sqrt{\\frac{J \\cdot c}{S_{x} \\cdot h_{0}} + \\sqrt{\\left( \\frac{J \\cdot c}{S_{x} \\cdot h_{0}} \\right)^{2} + 6.76 \\cdot \\left( \\frac{0.7 \\cdot F_{y}}{E} \\right)^{2}}}\n",
       "\\\\[10pt]\n",
       "&= 1.95 \\cdot 1.75\\;\\mathrm{inch} \\cdot \\frac{29000\\;\\mathrm{ksi}}{0.7 \\cdot 60\\;\\mathrm{ksi}} \\cdot \\sqrt{\\frac{0.3\\;\\mathrm{inch}^{4} \\cdot 1}{33.4\\;\\mathrm{inch}^{3} \\cdot 11.8\\;\\mathrm{inch}} + \\sqrt{\\left( \\frac{0.3\\;\\mathrm{inch}^{4} \\cdot 1}{33.4\\;\\mathrm{inch}^{3} \\cdot 11.8\\;\\mathrm{inch}} \\right)^{2} + 6.76 \\cdot \\left( \\frac{0.7 \\cdot 60\\;\\mathrm{ksi}}{29000\\;\\mathrm{ksi}} \\right)^{2}}}\n",
       "\\\\[10pt]\n",
       "&= 159.86\\;\\mathrm{inch}\n",
       "\\\\[10pt]\n",
       "F_{cr} &= \\frac{C_{b} \\cdot \\pi^{2} \\cdot E}{\\left( \\frac{L_{b}}{r_{ts}} \\right)^{2}} \\cdot \\sqrt{1 + 0.08 \\cdot \\frac{J \\cdot c}{S_{x} \\cdot h_{0}} \\cdot \\left( \\frac{L_{b}}{r_{ts}} \\right)^{2}}\n",
       "\\\\[10pt]\n",
       "&= \\frac{1 \\cdot 3.14^{2} \\cdot 29000\\;\\mathrm{ksi}}{\\left( \\frac{10\\;\\mathrm{ft}}{1.75\\;\\mathrm{inch}} \\right)^{2}} \\cdot \\sqrt{1 + 0.08 \\cdot \\frac{0.3\\;\\mathrm{inch}^{4} \\cdot 1}{33.4\\;\\mathrm{inch}^{3} \\cdot 11.8\\;\\mathrm{inch}} \\cdot \\left( \\frac{10\\;\\mathrm{ft}}{1.75\\;\\mathrm{inch}} \\right)^{2}}\n",
       "\\\\[10pt]\n",
       "&= 9913.76\\;\\mathrm{inch}^{2}\\,\\mathrm{ksi}\\,\\mathrm{ft}^{-2}\n",
       "\\\\[10pt]\n",
       "M_{n2} &= \\begin{cases}\n",
       "M_{p} & \\text{if } L_{b} \\leq L_{p}\\\\\n",
       "C_{b} \\cdot \\left( M_{p} - \\left( M_{p} - 0.7 \\cdot F_{y} \\cdot S_{x} \\right) \\cdot \\frac{L_{b} - L_{p}}{L_{r} - L_{p}} \\right) & \\text{if } L_{p} < L_{b} \\leq L_{r}\\\\\n",
       "F_{cr} \\cdot S_{x} & \\text{otherwise}\n",
       "\\end{cases}\n",
       "\\\\[10pt]\n",
       "&= \\begin{cases}\n",
       "2232\\;\\mathrm{inch}^{3}\\,\\mathrm{ksi} & \\text{if } 10\\;\\mathrm{ft} \\leq 58.43\\;\\mathrm{inch}\\\\\n",
       "1 \\cdot \\left( 2232\\;\\mathrm{inch}^{3}\\,\\mathrm{ksi} - \\left( 2232\\;\\mathrm{inch}^{3}\\,\\mathrm{ksi} - 0.7 \\cdot 60\\;\\mathrm{ksi} \\cdot 33.4\\;\\mathrm{inch}^{3} \\right) \\cdot \\frac{10\\;\\mathrm{ft} - 58.43\\;\\mathrm{inch}}{159.86\\;\\mathrm{inch} - 58.43\\;\\mathrm{inch}} \\right) & \\text{if } 58.43\\;\\mathrm{inch} < 10\\;\\mathrm{ft} \\leq 159.86\\;\\mathrm{inch}\\\\\n",
       "9913.76\\;\\mathrm{inch}^{2}\\,\\mathrm{ksi}\\,\\mathrm{ft}^{-2} \\cdot 33.4\\;\\mathrm{inch}^{3} & \\text{otherwise}\n",
       "\\end{cases}\n",
       "\\\\[10pt]\n",
       "&= 144.05\\;\\mathrm{ft}\\,\\mathrm{kip}\n",
       "\\\\[10pt]\n",
       "M_{n} &= \\mathrm{min}\\left( M_{n2}, M_{p} \\right)\n",
       "\\\\[10pt]\n",
       "&= \\mathrm{min}\\left( 144.05\\;\\mathrm{ft}\\,\\mathrm{kip}, 2232\\;\\mathrm{inch}^{3}\\,\\mathrm{ksi} \\right)\n",
       "\\\\[10pt]\n",
       "&= 144.05\\;\\mathrm{ft}\\,\\mathrm{kip}\n",
       "\\end{aligned}$"
      ],
      "text/plain": [
       "\"\\$\\\\begin{aligned}\\nM_{p} &= F_{y} \\\\cdot Z_{x}\\n\\\\\\\\[10pt]\\n&= 60\\\\;\\\\mathrm{ksi} \\\\cdot 37.2\\\\;\\\\mathrm{inch}^{3}\\n\\\\\\\\[10pt]\\n&= 2232\\\\;\\\\mathrm{inch}^{3}\\\\,\\\\mathrm{ksi}\\n\\\\\\\\[10pt]\\nL_{p} &= 1.76 \\\\cdot r_{y} \\\\cdot \\\\sqrt{\\\\frac{E}{F_{y}}}\\n\\\\\\\\[10pt]\\n&= 1.76 \\\\cdot 1.51\\\\;\\\\mathrm{inch} \\\\cdot \\\\sqr\"\u001b[93m\u001b[1m ⋯ 2243 bytes ⋯ \u001b[22m\u001b[39m\"]\\n&= 144.05\\\\;\\\\mathrm{ft}\\\\,\\\\mathrm{kip}\\n\\\\\\\\[10pt]\\nM_{n} &= \\\\mathrm{min}\\\\left( M_{n2}, M_{p} \\\\right)\\n\\\\\\\\[10pt]\\n&= \\\\mathrm{min}\\\\left( 144.05\\\\;\\\\mathrm{ft}\\\\,\\\\mathrm{kip}, 2232\\\\;\\\\mathrm{inch}^{3}\\\\,\\\\mathrm{ksi} \\\\right)\\n\\\\\\\\[10pt]\\n&= 144.05\\\\;\\\\mathrm{ft}\\\\,\\\\mathrm{kip}\\n\\\\end{aligned}\\$\""
      ]
     },
     "metadata": {},
     "output_type": "display_data"
    }
   ],
   "source": [
    "@handcalcs M_n = flexure_capacity_f2(w, E, F_y, 10ft) len=:long"
   ]
  },
  {
   "cell_type": "code",
   "execution_count": null,
   "metadata": {},
   "outputs": [],
   "source": [
    "@handcalcs M_n = flexure_capacity_f2(w, E, F_y, 80) "
   ]
  }
 ],
 "metadata": {
  "kernelspec": {
   "display_name": "Julia 1.10.6",
   "language": "julia",
   "name": "julia-1.10"
  },
  "language_info": {
   "file_extension": ".jl",
   "mimetype": "application/julia",
   "name": "julia",
   "version": "1.10.6"
  }
 },
 "nbformat": 4,
 "nbformat_minor": 2
}
