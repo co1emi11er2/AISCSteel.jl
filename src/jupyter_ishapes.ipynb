{
 "cells": [
  {
   "cell_type": "code",
   "execution_count": 12,
   "metadata": {},
   "outputs": [],
   "source": [
    "using Handcalcs, AISCSteel, Format"
   ]
  },
  {
   "cell_type": "code",
   "execution_count": 13,
   "metadata": {},
   "outputs": [],
   "source": [
    "set_default(fmt = x->format(round(x, digits=2)));"
   ]
  },
  {
   "cell_type": "code",
   "execution_count": 14,
   "metadata": {},
   "outputs": [
    {
     "data": {
      "text/plain": [
       "DoublySymmetricBuiltUpIShape{Float64}(88.0, 0.625, 22.0, 1.0, 29000.0, 60.0)"
      ]
     },
     "metadata": {},
     "output_type": "display_data"
    }
   ],
   "source": [
    "i = DoublySymmetricBuiltUpIShape(88., 0.625, 22., 1., 29000., 60.)"
   ]
  },
  {
   "cell_type": "code",
   "execution_count": 15,
   "metadata": {},
   "outputs": [
    {
     "data": {
      "text/latex": [
       "$\\begin{aligned}\n",
       "\\lambda_{p} &= 0.38 \\cdot \\sqrt{\\frac{E}{F_{y}}} = 0.38 \\cdot \\sqrt{\\frac{29000}{60}} = 8.35\n",
       "\\\\[10pt]\n",
       "k_{c} &= \\mathrm{min}\\left( \\mathrm{max}\\left( \\frac{4}{\\sqrt{\\frac{dw}{tw}}}, 0.35 \\right), 0.76 \\right) = \\mathrm{min}\\left( \\mathrm{max}\\left( \\frac{4}{\\sqrt{\\frac{88}{0.62}}}, 0.35 \\right), 0.76 \\right) = 0.35\n",
       "\\\\[10pt]\n",
       "F_{L} &= 0.7 \\cdot F_{y} = 0.7 \\cdot 60 = 42\n",
       "\\\\[10pt]\n",
       "\\lambda_{r} &= 0.95 \\cdot \\sqrt{\\frac{k_{c} \\cdot E}{F_{L}}} = 0.95 \\cdot \\sqrt{\\frac{0.35 \\cdot 29000}{42}} = 14.77\n",
       "\\\\[10pt]\n",
       "\\lambda &= \\frac{bf}{2 \\cdot tf} = \\frac{22}{2 \\cdot 1} = 11\n",
       "\\\\[10pt]\n",
       "class &= \\begin{cases}\n",
       "compact & \\text{if } \\lambda \\leq \\lambda_{p}\\\\\n",
       "noncompact & \\text{if } \\lambda_{p} < \\lambda < \\lambda_{r}\\\\\n",
       "slender & \\text{otherwise}\n",
       "\\end{cases} = \\begin{cases}\n",
       "compact & \\text{if } 11 \\leq 8.35\\\\\n",
       "noncompact & \\text{if } 8.35 < 11 < 14.77\\\\\n",
       "slender & \\text{otherwise}\n",
       "\\end{cases} = noncompact\n",
       "\\end{aligned}$"
      ],
      "text/plain": [
       "\"\\$\\\\begin{aligned}\\n\\\\lambda_{p} &= 0.38 \\\\cdot \\\\sqrt{\\\\frac{E}{F_{y}}} = 0.38 \\\\cdot \\\\sqrt{\\\\frac{29000}{60}} = 8.35\\n\\\\\\\\[10pt]\\nk_{c} &= \\\\mathrm{min}\\\\left( \\\\mathrm{max}\\\\left( \\\\frac{4}{\\\\sqrt{\\\\frac{dw}{tw}}}, 0.35 \\\\right), 0.76 \\\\right) = \\\\mathrm{min}\\\\left( \\\\mathrm{max}\\\\left( \\\\frac{\"\u001b[93m\u001b[1m ⋯ 385 bytes ⋯ \u001b[22m\u001b[39m\"_{p}\\\\\\\\\\nnoncompact & \\\\text{if } \\\\lambda_{p} < \\\\lambda < \\\\lambda_{r}\\\\\\\\\\nslender & \\\\text{otherwise}\\n\\\\end{cases} = \\\\begin{cases}\\ncompact & \\\\text{if } 11 \\\\leq 8.35\\\\\\\\\\nnoncompact & \\\\text{if } 8.35 < 11 < 14.77\\\\\\\\\\nslender & \\\\text{otherwise}\\n\\\\end{cases} = noncompact\\n\\\\end{aligned}\\$\""
      ]
     },
     "metadata": {},
     "output_type": "display_data"
    }
   ],
   "source": [
    "@handcalcs class = flange_slenderness_flexure(i)"
   ]
  },
  {
   "cell_type": "code",
   "execution_count": 16,
   "metadata": {},
   "outputs": [
    {
     "data": {
      "text/latex": [
       "$\\begin{aligned}\n",
       "\\lambda_{p} &= 3.76 \\cdot \\sqrt{\\frac{E}{F_{y}}} = 3.76 \\cdot \\sqrt{\\frac{29000}{60}} = 82.66\n",
       "\\\\[10pt]\n",
       "\\lambda_{r} &= 5.7 \\cdot \\sqrt{\\frac{E}{F_{y}}} = 5.7 \\cdot \\sqrt{\\frac{29000}{60}} = 125.31\n",
       "\\\\[10pt]\n",
       "\\lambda &= \\frac{dw}{tw} = \\frac{88}{0.62} = 140.8\n",
       "\\\\[10pt]\n",
       "class &= \\begin{cases}\n",
       "compact & \\text{if } \\lambda \\leq \\lambda_{p}\\\\\n",
       "noncompact & \\text{if } \\lambda_{p} < \\lambda < \\lambda_{r}\\\\\n",
       "slender & \\text{otherwise}\n",
       "\\end{cases} = \\begin{cases}\n",
       "compact & \\text{if } 140.8 \\leq 82.66\\\\\n",
       "noncompact & \\text{if } 82.66 < 140.8 < 125.31\\\\\n",
       "slender & \\text{otherwise}\n",
       "\\end{cases} = slender\n",
       "\\end{aligned}$"
      ],
      "text/plain": [
       "\"\\$\\\\begin{aligned}\\n\\\\lambda_{p} &= 3.76 \\\\cdot \\\\sqrt{\\\\frac{E}{F_{y}}} = 3.76 \\\\cdot \\\\sqrt{\\\\frac{29000}{60}} = 82.66\\n\\\\\\\\[10pt]\\n\\\\lambda_{r} &= 5.7 \\\\cdot \\\\sqrt{\\\\frac{E}{F_{y}}} = 5.7 \\\\cdot \\\\sqrt{\\\\frac{29000}{60}} = 125.31\\n\\\\\\\\[10pt]\\n\\\\lambda &= \\\\frac{dw}{tw} = \\\\frac{88}{0.62} = 140.\"\u001b[93m\u001b[1m ⋯ 80 bytes ⋯ \u001b[22m\u001b[39m\"\\\\\\nnoncompact & \\\\text{if } \\\\lambda_{p} < \\\\lambda < \\\\lambda_{r}\\\\\\\\\\nslender & \\\\text{otherwise}\\n\\\\end{cases} = \\\\begin{cases}\\ncompact & \\\\text{if } 140.8 \\\\leq 82.66\\\\\\\\\\nnoncompact & \\\\text{if } 82.66 < 140.8 < 125.31\\\\\\\\\\nslender & \\\\text{otherwise}\\n\\\\end{cases} = slender\\n\\\\end{aligned}\\$\""
      ]
     },
     "metadata": {},
     "output_type": "display_data"
    }
   ],
   "source": [
    "@handcalcs class = web_slenderness_flexure(i)"
   ]
  },
  {
   "cell_type": "code",
   "execution_count": null,
   "metadata": {},
   "outputs": [],
   "source": []
  }
 ],
 "metadata": {
  "kernelspec": {
   "display_name": "Julia 1.10.6",
   "language": "julia",
   "name": "julia-1.10"
  },
  "language_info": {
   "file_extension": ".jl",
   "mimetype": "application/julia",
   "name": "julia",
   "version": "1.10.6"
  }
 },
 "nbformat": 4,
 "nbformat_minor": 2
}
