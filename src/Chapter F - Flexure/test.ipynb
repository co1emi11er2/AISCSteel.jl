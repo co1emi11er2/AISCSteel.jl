{
 "cells": [
  {
   "cell_type": "code",
   "execution_count": 18,
   "metadata": {},
   "outputs": [],
   "source": [
    "import AISCSteel\n",
    "import AISCSteel.ChapterFFlexure.Section1: EqF1▬1"
   ]
  },
  {
   "cell_type": "code",
   "execution_count": 33,
   "metadata": {},
   "outputs": [],
   "source": [
    "using Handcalcs\n",
    "using TestHandcalcFunctions"
   ]
  },
  {
   "cell_type": "code",
   "execution_count": 3,
   "metadata": {},
   "outputs": [
    {
     "data": {
      "text/plain": [
       "foo (generic function with 1 method)"
      ]
     },
     "metadata": {},
     "output_type": "display_data"
    }
   ],
   "source": [
    "foo(x, y) = z = x + y"
   ]
  },
  {
   "cell_type": "code",
   "execution_count": 25,
   "metadata": {},
   "outputs": [
    {
     "data": {
      "text/latex": [
       "$\\begin{aligned}\n",
       "z &= \\begin{cases}\n",
       "x + y & \\text{if } x > 5\\\\\n",
       "\\mathrm{\\mathrm{AISCSteel}\\left( EqF1 \\right)}\\left( 3, 4, 5, 20 \\right) & \\text{otherwise}\n",
       "\\end{cases} = \\begin{cases}\n",
       "5 + 7 & \\text{if } 5 > 5\\\\\n",
       "\\mathrm{EqF1}\\left( 3, 4, 5, 20 \\right) & \\text{otherwise}\n",
       "\\end{cases} = 2.7777777777777777\n",
       "\\end{aligned}$"
      ],
      "text/plain": [
       "L\"$\\begin{aligned}\n",
       "z &= \\begin{cases}\n",
       "x + y & \\text{if } x > 5\\\\\n",
       "\\mathrm{\\mathrm{AISCSteel}\\left( EqF1 \\right)}\\left( 3, 4, 5, 20 \\right) & \\text{otherwise}\n",
       "\\end{cases} = \\begin{cases}\n",
       "5 + 7 & \\text{if } 5 > 5\\\\\n",
       "\\mathrm{EqF1}\\left( 3, 4, 5, 20 \\right) & \\text{otherwise}\n",
       "\\end{cases} = 2.7777777777777777\n",
       "\\end{aligned}$\""
      ]
     },
     "metadata": {},
     "output_type": "display_data"
    }
   ],
   "source": [
    "x = 5\n",
    "y = 7\n",
    "@handcalcs z = if x > 5\n",
    "    x+y\n",
    "    else\n",
    "    AISCSteel.EqF1(3, 4, 5, 20)\n",
    "    end"
   ]
  },
  {
   "cell_type": "code",
   "execution_count": 32,
   "metadata": {},
   "outputs": [
    {
     "name": "stdout",
     "output_type": "stream",
     "text": [
      "expr = :(x = AISCSteel.EqF1(3, 4, 5, 20))\n",
      "expr = :(C_b = (12.5M_max) / (2.5M_max + 3M_A + 4M_B + 3M_C))\n"
     ]
    },
    {
     "data": {
      "text/plain": [
       "1-element Vector{Any}:\n",
       " \"\\$C_{b} = \\\\frac{12.5 \\\\cdot M_{ma\"\u001b[93m\u001b[1m ⋯ 135 bytes ⋯ \u001b[22m\u001b[39m\"\\\\cdot 5} = 2.7777777777777777\\$\""
      ]
     },
     "metadata": {},
     "output_type": "display_data"
    }
   ],
   "source": [
    "@handcalc x = AISCSteel.EqF1(3, 4, 5, 20)"
   ]
  },
  {
   "cell_type": "code",
   "execution_count": 27,
   "metadata": {},
   "outputs": [],
   "source": []
  },
  {
   "cell_type": "code",
   "execution_count": 66,
   "metadata": {},
   "outputs": [
    {
     "name": "stdout",
     "output_type": "stream",
     "text": [
      "expr = :(c = TestHandcalcFunctions.calc_if_Is_2(b, h, :Ix))\n",
      "expr = :(I = calc_Ix(b, h))\n",
      "expr = :(I = calc_Iy(h, b))\n",
      "single call: Ix = (b * h ^ 3) / 12\n",
      "is_recursive = true\n",
      "expr = :(Ix = (b * h ^ 3) / 12)\n",
      "single call: Iy = (h * b ^ expo) / denominator\n",
      "is_recursive = true\n",
      "expr = :(Iy = (h * b ^ expo) / denominator)\n"
     ]
    },
    {
     "data": {
      "text/plain": [
       "3-element Vector{Any}:\n",
       " L\"$type = Ix = Ix = Ix = true$\"\n",
       " Any[L\"$Ix = \\frac{b \\cdot h^{3}}{12} = \\frac{5 \\cdot 15^{3}}{12} = 1406.25$\"]\n",
       " Any[L\"$Iy = \\frac{h \\cdot b^{expo}}{denominator} = \\frac{15 \\cdot 5^{3}}{12} = 156.25$\"]"
      ]
     },
     "metadata": {},
     "output_type": "display_data"
    }
   ],
   "source": [
    "b = 5\n",
    "h = 15\n",
    "@handcalc begin\n",
    "    c = TestHandcalcFunctions.calc_if_Is_2(b, h, :Ix)\n",
    "end"
   ]
  },
  {
   "cell_type": "code",
   "execution_count": 65,
   "metadata": {},
   "outputs": [
    {
     "data": {
      "text/latex": [
       "$\\begin{cases}\n",
       "I = \\frac{b \\cdot h^{3}}{12} & \\text{if } type = Ix\\\\\n",
       "I = \\frac{h \\cdot b^{3}}{12} & \\text{if } type = Iy\\\\\n",
       "I = 1 + 1 & \\text{otherwise}\n",
       "\\end{cases} = \\begin{cases}\n",
       "2 = \\frac{5 \\cdot 15^{3}}{12} & \\text{if } Ix = Ix\\\\\n",
       "2 = \\frac{15 \\cdot 5^{3}}{12} & \\text{if } Ix = Iy\\\\\n",
       "2 = 1 + 1 & \\text{otherwise}\n",
       "\\end{cases} = 1406.25$"
      ],
      "text/plain": [
       "L\"$\\begin{cases}\n",
       "I = \\frac{b \\cdot h^{3}}{12} & \\text{if } type = Ix\\\\\n",
       "I = \\frac{h \\cdot b^{3}}{12} & \\text{if } type = Iy\\\\\n",
       "I = 1 + 1 & \\text{otherwise}\n",
       "\\end{cases} = \\begin{cases}\n",
       "2 = \\frac{5 \\cdot 15^{3}}{12} & \\text{if } Ix = Ix\\\\\n",
       "2 = \\frac{15 \\cdot 5^{3}}{12} & \\text{if } Ix = Iy\\\\\n",
       "2 = 1 + 1 & \\text{otherwise}\n",
       "\\end{cases} = 1406.25$\""
      ]
     },
     "metadata": {},
     "output_type": "display_data"
    }
   ],
   "source": [
    "type = :Ix\n",
    "@handcalc if type == :Ix\n",
    "    I = b*h^3/12\n",
    "elseif type == :Iy\n",
    "    I = h*b^3/12\n",
    "else\n",
    "    I = 1 + 1\n",
    "end"
   ]
  },
  {
   "cell_type": "code",
   "execution_count": null,
   "metadata": {},
   "outputs": [],
   "source": []
  }
 ],
 "metadata": {
  "kernelspec": {
   "display_name": "Julia 1.10.6",
   "language": "julia",
   "name": "julia-1.10"
  },
  "language_info": {
   "file_extension": ".jl",
   "mimetype": "application/julia",
   "name": "julia",
   "version": "1.10.6"
  }
 },
 "nbformat": 4,
 "nbformat_minor": 2
}
